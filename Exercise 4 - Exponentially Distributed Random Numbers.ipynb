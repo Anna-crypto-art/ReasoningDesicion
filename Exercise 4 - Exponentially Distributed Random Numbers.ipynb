{
 "cells": [
  {
   "cell_type": "markdown",
   "metadata": {},
   "source": [
    "## Exercise 4 - Exponentially distributed random numbers ##"
   ]
  },
  {
   "cell_type": "markdown",
   "metadata": {},
   "source": [
    "### Imports ###"
   ]
  },
  {
   "cell_type": "code",
   "execution_count": 1,
   "metadata": {},
   "outputs": [],
   "source": [
    "import pandas as pd\n",
    "import random\n",
    "import matplotlib.pyplot as plt\n",
    "import numpy as np"
   ]
  },
  {
   "cell_type": "markdown",
   "metadata": {},
   "source": [
    "### a) ###"
   ]
  },
  {
   "cell_type": "code",
   "execution_count": 2,
   "metadata": {},
   "outputs": [],
   "source": [
    "# Create one exponentially distributed random number\n",
    "\n",
    "def exponentially_distributed_number(lambd):\n",
    "\n",
    "    # U is a uniformly distributed random number\n",
    "    u = random.random()\n",
    "\n",
    "    # return the exponentially distributed random number\n",
    "    return -np.log(1-u)/lambd"
   ]
  },
  {
   "cell_type": "markdown",
   "metadata": {},
   "source": [
    "### b) ###"
   ]
  },
  {
   "cell_type": "code",
   "execution_count": 3,
   "metadata": {},
   "outputs": [],
   "source": [
    "# Create a Sample-Set of size with exponentially distributed random numbers\n",
    "\n",
    "def exponentially_distributed_sampleSet(size, lambd):\n",
    "\n",
    "    #Initialize the sample set as empty array\n",
    "    sampleSet = []\n",
    "\n",
    "    #Fill the sample set with random exponentially distributed numbers\n",
    "    for i in range(size):\n",
    "        sampleSet.append(exponentially_distributed_number(lambd))\n",
    "\n",
    "    return sampleSet\n"
   ]
  },
  {
   "cell_type": "code",
   "execution_count": 4,
   "metadata": {},
   "outputs": [],
   "source": [
    "# Estimation of the parameters of a sample\n",
    "\n",
    "def parameter_estimation_distributed_sample(size, lambd):\n",
    "\n",
    "    #Create sample set\n",
    "    sampleSet = exponentially_distributed_sampleSet(size, lambd)\n",
    "\n",
    "    #Calculate estimation of lambda = number of samples / sum of samples\n",
    "    lambdEstimation = (len(sampleSet) / sum(sampleSet))\n",
    "\n",
    "    \n",
    "    print(\"Estimated Lambda: \" + str(lambdEstimation) + \"\\nLambda set: \" + str(lambd))"
   ]
  },
  {
   "cell_type": "code",
   "execution_count": 5,
   "metadata": {},
   "outputs": [
    {
     "name": "stdout",
     "output_type": "stream",
     "text": [
      "Estimated Lambda: 1.9148227870172922\n",
      "Lambda set: 1.7\n",
      "_____________________________________\n",
      "Estimated Lambda: 1.5288577873003726\n",
      "Lambda set: 1.7\n",
      "_____________________________________\n",
      "Estimated Lambda: 1.74370341855786\n",
      "Lambda set: 1.7\n",
      "_____________________________________\n",
      "Estimated Lambda: 1.7146177295342535\n",
      "Lambda set: 1.7\n",
      "_____________________________________\n",
      "Estimated Lambda: 1.6998248988927889\n",
      "Lambda set: 1.7\n",
      "_____________________________________\n",
      "Estimated Lambda: 1.7023191926628567\n",
      "Lambda set: 1.7\n",
      "_____________________________________\n"
     ]
    }
   ],
   "source": [
    "#Estimate lambda for different sized samplesets and print\n",
    "\n",
    "parameter_estimation_distributed_sample(10, 1.7)\n",
    "print(\"_____________________________________\")\n",
    "\n",
    "parameter_estimation_distributed_sample(100, 1.7)\n",
    "print(\"_____________________________________\")\n",
    "\n",
    "parameter_estimation_distributed_sample(1000, 1.7)\n",
    "print(\"_____________________________________\")\n",
    "\n",
    "parameter_estimation_distributed_sample(10000, 1.7)\n",
    "print(\"_____________________________________\")\n",
    "\n",
    "parameter_estimation_distributed_sample(100000, 1.7)\n",
    "print(\"_____________________________________\")\n",
    "\n",
    "parameter_estimation_distributed_sample(1000000, 1.7)\n",
    "print(\"_____________________________________\")"
   ]
  },
  {
   "cell_type": "markdown",
   "metadata": {},
   "source": [
    "### c) ###"
   ]
  },
  {
   "cell_type": "code",
   "execution_count": 6,
   "metadata": {},
   "outputs": [
    {
     "data": {
      "text/plain": [
       "[<matplotlib.lines.Line2D at 0x246d18a4250>]"
      ]
     },
     "execution_count": 6,
     "metadata": {},
     "output_type": "execute_result"
    },
    {
     "data": {
      "image/png": "[encoded data removed]",
      "text/plain": [
       "<Figure size 640x480 with 1 Axes>"
      ]
     },
     "metadata": {},
     "output_type": "display_data"
    }
   ],
   "source": [
    "#Create sampleset of random exponentially distributed numbers \n",
    "sampleSet = exponentially_distributed_sampleSet(10000, 0.75)\n",
    "\n",
    "#Sort by size\n",
    "sampleSet = np.sort(sampleSet)\n",
    "\n",
    "#Invert array\n",
    "sampleSet = sampleSet[::-1]\n",
    "\n",
    "\n",
    "\n",
    "plt.legend(['Exponentially Distributed Sample Set of Random Numbers'])\n",
    "plt.plot(sampleSet)"
   ]
  }
 ],
 "metadata": {
  "kernelspec": {
   "display_name": "ANN2",
   "language": "python",
   "name": "python3"
  },
  "language_info": {
   "codemirror_mode": {
    "name": "ipython",
    "version": 3
   },
   "file_extension": ".py",
   "mimetype": "text/x-python",
   "name": "python",
   "nbconvert_exporter": "python",
   "pygments_lexer": "ipython3",
   "version": "3.10.10"
  },
  "orig_nbformat": 4
 },
 "nbformat": 4,
 "nbformat_minor": 2
}
