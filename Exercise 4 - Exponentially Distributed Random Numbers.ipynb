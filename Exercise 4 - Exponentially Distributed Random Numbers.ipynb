{
 "cells": [
  {
   "cell_type": "markdown",
   "metadata": {},
   "source": [
    "## Exercise 4 - Exponentially distributed random numbers ##"
   ]
  },
  {
   "cell_type": "markdown",
   "metadata": {},
   "source": [
    "### Imports ###"
   ]
  },
  {
   "cell_type": "code",
   "execution_count": 76,
   "metadata": {},
   "outputs": [],
   "source": [
    "import pandas as pd\n",
    "import random\n",
    "import matplotlib.pyplot as plt\n",
    "import numpy as np"
   ]
  },
  {
   "attachments": {},
   "cell_type": "markdown",
   "metadata": {},
   "source": [
    "### Create Uniform Distributed Number ###\n"
   ]
  },
  {
   "cell_type": "code",
   "execution_count": 77,
   "metadata": {},
   "outputs": [],
   "source": [
    "#Set the seed for the uniform distributed number\n",
    "def setSeed(seed):\n",
    "    global Z\n",
    "    Z = seed\n",
    "\n",
    "#generate uniform distributed random number\n",
    "def uniform_distributed_number(a, b, m, min, max):\n",
    "    \n",
    "    global Z\n",
    "    Z = (a * Z + b) % m\n",
    "    return min + (max - min) * (Z / m)"
   ]
  },
  {
   "cell_type": "markdown",
   "metadata": {},
   "source": [
    "### a) ###"
   ]
  },
  {
   "cell_type": "code",
   "execution_count": 78,
   "metadata": {},
   "outputs": [],
   "source": [
    "# Create one exponentially distributed random number\n",
    "\n",
    "def exponentially_distributed_number(lambd):\n",
    "\n",
    "    # U is a uniformly distributed random number\n",
    "    u = uniform_distributed_number(1664525, 1013904223, 2**32, 0, 1)\n",
    "\n",
    "    # return the exponentially distributed random number\n",
    "    return -np.log(1-u)/lambd"
   ]
  },
  {
   "cell_type": "markdown",
   "metadata": {},
   "source": [
    "### b) ###"
   ]
  },
  {
   "cell_type": "code",
   "execution_count": 79,
   "metadata": {},
   "outputs": [],
   "source": [
    "# Create a Sample-Set of size with exponentially distributed random numbers\n",
    "\n",
    "def exponentially_distributed_sampleSet(size, lambd):\n",
    "\n",
    "    #set the seed to 27\n",
    "    setSeed(27)\n",
    "    \n",
    "    #Initialize the sample set as empty array\n",
    "    sampleSet = []\n",
    "\n",
    "    #Fill the sample set with random exponentially distributed numbers\n",
    "    for i in range(size):\n",
    "        sampleSet.append(exponentially_distributed_number(lambd))\n",
    "\n",
    "    return sampleSet\n"
   ]
  },
  {
   "cell_type": "code",
   "execution_count": 80,
   "metadata": {},
   "outputs": [],
   "source": [
    "# Estimation of the parameters of a sample\n",
    "\n",
    "def parameter_estimation_distributed_sample(size, lambd):\n",
    "\n",
    "    #Create sample set\n",
    "    sampleSet = exponentially_distributed_sampleSet(size, lambd)\n",
    "\n",
    "    #Calculate estimation of lambda = number of samples / sum of samples\n",
    "    lambdEstimation = (len(sampleSet) / sum(sampleSet))\n",
    "\n",
    "    \n",
    "    print(\"Estimated Lambda: \" + str(lambdEstimation) + \"\\nLambda set: \" + str(lambd))"
   ]
  },
  {
   "cell_type": "code",
   "execution_count": 81,
   "metadata": {},
   "outputs": [
    {
     "name": "stdout",
     "output_type": "stream",
     "text": [
      "Estimated Lambda: 1.6861596865618307\n",
      "Lambda set: 1.7\n",
      "_____________________________________\n",
      "Estimated Lambda: 1.884055697747743\n",
      "Lambda set: 1.7\n",
      "_____________________________________\n",
      "Estimated Lambda: 1.7066049639563434\n",
      "Lambda set: 1.7\n",
      "_____________________________________\n",
      "Estimated Lambda: 1.6895676212107271\n",
      "Lambda set: 1.7\n",
      "_____________________________________\n",
      "Estimated Lambda: 1.701062556442333\n",
      "Lambda set: 1.7\n",
      "_____________________________________\n",
      "Estimated Lambda: 1.6986275947520793\n",
      "Lambda set: 1.7\n",
      "_____________________________________\n"
     ]
    }
   ],
   "source": [
    "#Estimate lambda for different sized samplesets and print\n",
    "\n",
    "parameter_estimation_distributed_sample(10, 1.7)\n",
    "print(\"_____________________________________\")\n",
    "\n",
    "parameter_estimation_distributed_sample(100, 1.7)\n",
    "print(\"_____________________________________\")\n",
    "\n",
    "parameter_estimation_distributed_sample(1000, 1.7)\n",
    "print(\"_____________________________________\")\n",
    "\n",
    "parameter_estimation_distributed_sample(10000, 1.7)\n",
    "print(\"_____________________________________\")\n",
    "\n",
    "parameter_estimation_distributed_sample(100000, 1.7)\n",
    "print(\"_____________________________________\")\n",
    "\n",
    "parameter_estimation_distributed_sample(1000000, 1.7)\n",
    "print(\"_____________________________________\")"
   ]
  },
  {
   "cell_type": "markdown",
   "metadata": {},
   "source": [
    "### c) ###"
   ]
  },
  {
   "cell_type": "code",
   "execution_count": 82,
   "metadata": {},
   "outputs": [
    {
     "data": {
      "text/plain": [
       "<matplotlib.legend.Legend at 0x246d3122560>"
      ]
     },
     "execution_count": 82,
     "metadata": {},
     "output_type": "execute_result"
    },
    {
     "data": {
      "image/png": "[encoded data removed]",
      "text/plain": [
       "<Figure size 640x480 with 1 Axes>"
      ]
     },
     "metadata": {},
     "output_type": "display_data"
    }
   ],
   "source": [
    "#Create sampleset of random exponentially distributed numbers \n",
    "sampleSet = exponentially_distributed_sampleSet(10000, 0.75)\n",
    "\n",
    "#Sort by size\n",
    "sampleSet = np.sort(sampleSet)\n",
    "\n",
    "#Invert array\n",
    "sampleSet = sampleSet[::-1]\n",
    "\n",
    "\n",
    "\n",
    "\n",
    "plt.plot(sampleSet)\n",
    "plt.legend(['Exponentially Distributed Sample Set of Random Numbers'])"
   ]
  }
 ],
 "metadata": {
  "kernelspec": {
   "display_name": "ANN2",
   "language": "python",
   "name": "python3"
  },
  "language_info": {
   "codemirror_mode": {
    "name": "ipython",
    "version": 3
   },
   "file_extension": ".py",
   "mimetype": "text/x-python",
   "name": "python",
   "nbconvert_exporter": "python",
   "pygments_lexer": "ipython3",
   "version": "3.10.10"
  },
  "orig_nbformat": 4
 },
 "nbformat": 4,
 "nbformat_minor": 2
}
