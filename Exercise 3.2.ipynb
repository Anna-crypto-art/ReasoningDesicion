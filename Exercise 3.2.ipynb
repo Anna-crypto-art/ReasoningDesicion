{
 "cells": [
  {
   "cell_type": "code",
   "execution_count": 1,
   "outputs": [],
   "source": [
    "import random\n",
    "import numpy as np\n",
    "import matplotlib.pyplot as plt"
   ],
   "metadata": {
    "collapsed": false
   }
  },
  {
   "cell_type": "markdown",
   "source": [
    "# Exercise 3a"
   ],
   "metadata": {
    "collapsed": false
   }
  },
  {
   "cell_type": "code",
   "execution_count": 2,
   "outputs": [],
   "source": [
    "def box_muller_transform():\n",
    "    u1 = random.random()\n",
    "    u2 = random.random()\n",
    "    z1 = np.cos(2 * np.pi * u2) * np.sqrt(-2 * np.log(u1))\n",
    "    z2 = np.sin(2 * np.pi * u2) * np.sqrt(-2 * np.log(u1))\n",
    "    return z1, z2\n",
    "\n",
    "\n",
    "def generate_normal_value(mean, std_dev):\n",
    "    z1, z2 = box_muller_transform()\n",
    "    return mean + std_dev * random.choice([z1, z2])"
   ],
   "metadata": {
    "collapsed": false
   }
  },
  {
   "cell_type": "markdown",
   "source": [
    "# Exercise 3b"
   ],
   "metadata": {
    "collapsed": false
   }
  },
  {
   "cell_type": "code",
   "execution_count": 3,
   "outputs": [
    {
     "name": "stdout",
     "output_type": "stream",
     "text": [
      "Estimated mean: 0.04301256746115822\n",
      "Estimated standard deviation: 0.9880491722338803\n"
     ]
    }
   ],
   "source": [
    "def create_sample_set(sample_size, mean, std_dev):\n",
    "    return [generate_normal_value(mean, std_dev) for _ in range(sample_size)]\n",
    "\n",
    "\n",
    "def estimate_mean_and_std_dev(samples):\n",
    "    mean = sum(samples) / len(samples)\n",
    "    std_dev = np.sqrt(sum([(x - mean) ** 2 for x in samples]) / len(samples))\n",
    "    return mean, std_dev\n",
    "\n",
    "\n",
    "samples_set = create_sample_set(1000, 0, 1)\n",
    "estimated_mean, estimated_std_dev = estimate_mean_and_std_dev(samples_set)\n",
    "\n",
    "print(f\"Estimated mean: {estimated_mean}\")\n",
    "print(f\"Estimated standard deviation: {estimated_std_dev}\")"
   ],
   "metadata": {
    "collapsed": false
   }
  },
  {
   "cell_type": "markdown",
   "source": [
    "The parameter estimates will vary due to randomness, but they should be close to the true mean and standard deviation as the sample size increases. If the sample size decreases, the estimates will be less accurate."
   ],
   "metadata": {
    "collapsed": false
   }
  },
  {
   "cell_type": "markdown",
   "source": [
    "# Exercise 3c)"
   ],
   "metadata": {
    "collapsed": false
   }
  },
  {
   "cell_type": "code",
   "execution_count": 5,
   "outputs": [
    {
     "data": {
      "text/plain": "<Figure size 432x288 with 1 Axes>",
      "image/png": "[encoded data removed]"
     },
     "metadata": {
      "needs_background": "light"
     },
     "output_type": "display_data"
    }
   ],
   "source": [
    "def plot_histogram(samples, mean, std_dev):\n",
    "    plt.hist(samples, bins=20, density=True)\n",
    "\n",
    "    x = np.linspace(mean - 3 * std_dev, mean + 3 * std_dev, 100)\n",
    "    plt.plot(x, 1 / (std_dev * np.sqrt(2 * np.pi)) * np.exp(-(x - mean) ** 2 / (2 * std_dev ** 2)))\n",
    "\n",
    "    plt.title(\"Histogram of generated random numbers\")\n",
    "    plt.show()\n",
    "\n",
    "plot_histogram(samples_set, 0, 1)"
   ],
   "metadata": {
    "collapsed": false
   }
  },
  {
   "cell_type": "markdown",
   "source": [
    "This function provides a visual comparison between the generated random numbers and the expected normal distribution. If the histogram closely matches the curve, it indicates that the random numbers follow the desired distribution."
   ],
   "metadata": {
    "collapsed": false
   }
  }
 ],
 "metadata": {
  "kernelspec": {
   "display_name": "Python 3",
   "language": "python",
   "name": "python3"
  },
  "language_info": {
   "codemirror_mode": {
    "name": "ipython",
    "version": 2
   },
   "file_extension": ".py",
   "mimetype": "text/x-python",
   "name": "python",
   "nbconvert_exporter": "python",
   "pygments_lexer": "ipython2",
   "version": "2.7.6"
  }
 },
 "nbformat": 4,
 "nbformat_minor": 0
}
